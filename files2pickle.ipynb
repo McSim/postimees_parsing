{
 "cells": [
  {
   "cell_type": "code",
   "execution_count": 2,
   "metadata": {},
   "outputs": [],
   "source": [
    "import pandas as pd\n",
    "from os import listdir\n",
    "from os.path import isfile, join"
   ]
  },
  {
   "cell_type": "code",
   "execution_count": 109,
   "metadata": {},
   "outputs": [],
   "source": [
    "# Make dataframe from files with articles\n",
    "df = pd.DataFrame()\n",
    "onlyfiles = [f for f in listdir(r'files/') if isfile(join(r'files/', f))]\n",
    "row = -1\n",
    "for i in onlyfiles:\n",
    "    file = pd.read_pickle(r'files/'+i)\n",
    "    row = row + 1\n",
    "    for key in file.keys():\n",
    "        df.loc[row,key] = file[key]"
   ]
  },
  {
   "cell_type": "code",
   "execution_count": 110,
   "metadata": {},
   "outputs": [
    {
     "name": "stdout",
     "output_type": "stream",
     "text": [
      "<class 'pandas.core.frame.DataFrame'>\n",
      "Int64Index: 122720 entries, 0 to 122719\n",
      "Data columns (total 11 columns):\n",
      "id          122720 non-null float64\n",
      "status      122720 non-null object\n",
      "lang        59305 non-null object\n",
      "title       59305 non-null object\n",
      "text        59305 non-null object\n",
      "theme       59305 non-null object\n",
      "keywords    59305 non-null object\n",
      "time        59305 non-null object\n",
      "comcount    59305 non-null object\n",
      "autor       59305 non-null object\n",
      "full_url    59305 non-null object\n",
      "dtypes: float64(1), object(10)\n",
      "memory usage: 16.2+ MB\n"
     ]
    }
   ],
   "source": [
    "df.info()"
   ]
  },
  {
   "cell_type": "code",
   "execution_count": 116,
   "metadata": {},
   "outputs": [
    {
     "name": "stdout",
     "output_type": "stream",
     "text": [
      "There are 122720 articles in the collection. From id 4250000.0 on [nan] to id 4372719.0 on ['2018-01-11T20:30:48'].\n"
     ]
    }
   ],
   "source": [
    "id_min = df.id.min()\n",
    "id_max = df.id.max()\n",
    "date_first = df.loc[df.id==id_min,'time'].values\n",
    "date_last = df.loc[df.id==id_max,'time'].values\n",
    "print('There are {} articles in the collection. From id {} on {} to id {} on {}.'.format( \n",
    "     df.shape[0],\n",
    "     id_min, date_first[:10],\n",
    "     id_max, date_last[:10]))"
   ]
  },
  {
   "cell_type": "code",
   "execution_count": 117,
   "metadata": {},
   "outputs": [],
   "source": [
    "df.drop(index=df[df.status=='title_not_found'].index).to_pickle('postimees_articles_200917-110118.pkl')"
   ]
  },
  {
   "cell_type": "code",
   "execution_count": 118,
   "metadata": {},
   "outputs": [],
   "source": [
    "data=pd.read_pickle('postimees_articles_200917-110118.pkl')"
   ]
  },
  {
   "cell_type": "code",
   "execution_count": 119,
   "metadata": {},
   "outputs": [
    {
     "name": "stdout",
     "output_type": "stream",
     "text": [
      "<class 'pandas.core.frame.DataFrame'>\n",
      "Int64Index: 59305 entries, 1 to 122719\n",
      "Data columns (total 11 columns):\n",
      "id          59305 non-null float64\n",
      "status      59305 non-null object\n",
      "lang        59305 non-null object\n",
      "title       59305 non-null object\n",
      "text        59305 non-null object\n",
      "theme       59305 non-null object\n",
      "keywords    59305 non-null object\n",
      "time        59305 non-null object\n",
      "comcount    59305 non-null object\n",
      "autor       59305 non-null object\n",
      "full_url    59305 non-null object\n",
      "dtypes: float64(1), object(10)\n",
      "memory usage: 5.4+ MB\n"
     ]
    }
   ],
   "source": [
    "data.info()"
   ]
  },
  {
   "cell_type": "code",
   "execution_count": 120,
   "metadata": {},
   "outputs": [],
   "source": [
    "data.id = data.id.astype('int')"
   ]
  },
  {
   "cell_type": "code",
   "execution_count": 121,
   "metadata": {},
   "outputs": [],
   "source": [
    "data.time = pd.DatetimeIndex(data['time'])"
   ]
  },
  {
   "cell_type": "code",
   "execution_count": 122,
   "metadata": {},
   "outputs": [],
   "source": [
    "data = data.set_index('id')"
   ]
  },
  {
   "cell_type": "code",
   "execution_count": 124,
   "metadata": {},
   "outputs": [],
   "source": [
    "data['year'] = pd.DatetimeIndex(data['time']).year\n",
    "data['month'] = pd.DatetimeIndex(data['time']).month\n",
    "data['hour'] = pd.DatetimeIndex(data['time']).hour\n",
    "data['weekday'] = pd.DatetimeIndex(data['time']).weekday"
   ]
  },
  {
   "cell_type": "code",
   "execution_count": 125,
   "metadata": {},
   "outputs": [
    {
     "data": {
      "text/plain": [
       "Uudised                         8536\n",
       "Paberleht                       6647\n",
       "Eesti                           2316\n",
       "Arvamus                         1427\n",
       "Järva Teataja                   1317\n",
       "Sport                           1147\n",
       "Majandus                        1056\n",
       "Kirev elu                       1036\n",
       "Elu24                            883\n",
       "Maailm                           825\n",
       "Eesti staarid                    810\n",
       "Jalgpall                         788\n",
       "Tasuline                         688\n",
       "Tartu Postimees                  593\n",
       "Korvpall                         591\n",
       "Lemmik                           576\n",
       "Kodustiil                        469\n",
       "Äriuudised                       461\n",
       "Krimi                            448\n",
       "Kultuur                          434\n",
       "Suhted & seks                    338\n",
       "Tarbija                          320\n",
       "Olümpiauudised                   312\n",
       "Välismajandus                    300\n",
       "Ilu & mood                       282\n",
       "Vaba aeg                         274\n",
       "PÖFF                             274\n",
       "Galeriid                         258\n",
       "WRC                              256\n",
       "Tennis                           255\n",
       "                                ... \n",
       "Seisukohad                         2\n",
       "EKRE                               2\n",
       "Sügisesed retseptisoovitused       2\n",
       "Artiklid                           2\n",
       "Minu Eesti                         2\n",
       "Horoskoop                          2\n",
       "Otseülekanded                      2\n",
       "Pisiloomad                         2\n",
       "Räpina                             2\n",
       "Kanepi                             2\n",
       "Hüva nõu                           1\n",
       "Teemad                             1\n",
       "Valitsus                           1\n",
       "Tööstus                            1\n",
       "Soome 100                          1\n",
       "Asumid                             1\n",
       "Arenduse test                      1\n",
       "Reformierakond                     1\n",
       "MyHits                             1\n",
       "Vastseliina                        1\n",
       "Ainult naistele                    1\n",
       "Tulevik                            1\n",
       "Nõuanded                           1\n",
       "Minevik                            1\n",
       "Eelmised olümpiad                  1\n",
       "Olevik                             1\n",
       "Muud alad                          1\n",
       "Seltsielu                          1\n",
       "Hommik Lemmikutega                 1\n",
       "Mõte                               1\n",
       "Name: theme, Length: 293, dtype: int64"
      ]
     },
     "execution_count": 125,
     "metadata": {},
     "output_type": "execute_result"
    }
   ],
   "source": [
    "data[data.lang=='et'].theme.value_counts()"
   ]
  },
  {
   "cell_type": "code",
   "execution_count": 126,
   "metadata": {},
   "outputs": [
    {
     "name": "stdout",
     "output_type": "stream",
     "text": [
      "<class 'pandas.core.frame.DataFrame'>\n",
      "Int64Index: 59305 entries, 4250001 to 4372719\n",
      "Data columns (total 14 columns):\n",
      "status      59305 non-null object\n",
      "lang        59305 non-null object\n",
      "title       59305 non-null object\n",
      "text        59305 non-null object\n",
      "theme       59305 non-null object\n",
      "keywords    59305 non-null object\n",
      "time        59305 non-null datetime64[ns]\n",
      "comcount    59305 non-null object\n",
      "autor       59305 non-null object\n",
      "full_url    59305 non-null object\n",
      "year        59305 non-null int64\n",
      "month       59305 non-null int64\n",
      "hour        59305 non-null int64\n",
      "weekday     59305 non-null int64\n",
      "dtypes: datetime64[ns](1), int64(4), object(9)\n",
      "memory usage: 6.8+ MB\n"
     ]
    }
   ],
   "source": [
    "data.info()"
   ]
  },
  {
   "cell_type": "code",
   "execution_count": 127,
   "metadata": {},
   "outputs": [
    {
     "data": {
      "text/plain": [
       "Int64Index([4250151, 4250667, 4250671, 4250715, 4250863, 4250945, 4250979,\n",
       "            4251081, 4251141, 4251207,\n",
       "            ...\n",
       "            4371937, 4371985, 4372181, 4372219, 4372225, 4372233, 4372305,\n",
       "            4372435, 4372477, 4372659],\n",
       "           dtype='int64', name='id', length=1261)"
      ]
     },
     "execution_count": 127,
     "metadata": {},
     "output_type": "execute_result"
    }
   ],
   "source": [
    "inx=data[data.text.str.contains('A post shared by')].text.index\n",
    "inx"
   ]
  },
  {
   "cell_type": "code",
   "execution_count": 128,
   "metadata": {},
   "outputs": [],
   "source": [
    "# There are some phrases about the source in the articles. We transfer this data into a separate column.\n",
    "data['from'] = data.text.apply(lambda row: row.split('A post shared by ')[1].split(' on ')[0]\n",
    "                               if 'A post shared by' in row else \"\")"
   ]
  },
  {
   "cell_type": "code",
   "execution_count": 129,
   "metadata": {},
   "outputs": [],
   "source": [
    "# Cut out the mentions of the source from texts\n",
    "start='A post shared by'\n",
    "end='m P'\n",
    "data['text'] = data.text.apply(lambda row: \"{}{}\".format(row.split(start)[0], row.split(end)[-1][3:]) if 'A post shared by' in row else row)"
   ]
  },
  {
   "cell_type": "code",
   "execution_count": 130,
   "metadata": {},
   "outputs": [
    {
     "name": "stdout",
     "output_type": "stream",
     "text": [
      "<class 'pandas.core.frame.DataFrame'>\n",
      "Int64Index: 59305 entries, 4250001 to 4372719\n",
      "Data columns (total 15 columns):\n",
      "status      59305 non-null object\n",
      "lang        59305 non-null object\n",
      "title       59305 non-null object\n",
      "text        59305 non-null object\n",
      "theme       59305 non-null object\n",
      "keywords    59305 non-null object\n",
      "time        59305 non-null datetime64[ns]\n",
      "comcount    59305 non-null object\n",
      "autor       59305 non-null object\n",
      "full_url    59305 non-null object\n",
      "year        59305 non-null int64\n",
      "month       59305 non-null int64\n",
      "hour        59305 non-null int64\n",
      "weekday     59305 non-null int64\n",
      "from        59305 non-null object\n",
      "dtypes: datetime64[ns](1), int64(4), object(10)\n",
      "memory usage: 7.2+ MB\n"
     ]
    }
   ],
   "source": [
    "data.info()"
   ]
  },
  {
   "cell_type": "code",
   "execution_count": 133,
   "metadata": {},
   "outputs": [],
   "source": [
    "data['url_theme'] = data.full_url.apply(lambda row: row.split('https://')[1].split('.')[0])"
   ]
  },
  {
   "cell_type": "code",
   "execution_count": 135,
   "metadata": {},
   "outputs": [],
   "source": [
    "data.to_pickle('postimees_59305_articles_200917-110118.pkl')\n",
    "#data = pd.read_pickle('postimees_59305_articles_200917-110118.pkl')"
   ]
  },
  {
   "cell_type": "code",
   "execution_count": null,
   "metadata": {},
   "outputs": [],
   "source": []
  }
 ],
 "metadata": {
  "kernelspec": {
   "display_name": "Python 3",
   "language": "python",
   "name": "python3"
  },
  "language_info": {
   "codemirror_mode": {
    "name": "ipython",
    "version": 3
   },
   "file_extension": ".py",
   "mimetype": "text/x-python",
   "name": "python",
   "nbconvert_exporter": "python",
   "pygments_lexer": "ipython3",
   "version": "3.6.3"
  }
 },
 "nbformat": 4,
 "nbformat_minor": 2
}
